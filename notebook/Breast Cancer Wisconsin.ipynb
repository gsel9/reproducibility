{
 "cells": [
  {
   "cell_type": "markdown",
   "metadata": {},
   "source": [
    "# Breast Cancer Wisconsin (Diagnostic) Data Set"
   ]
  },
  {
   "cell_type": "code",
   "execution_count": 1,
   "metadata": {},
   "outputs": [],
   "source": [
    "#importing the necessary libraries\n",
    "import numpy as np\n",
    "import pandas as pd\n",
    "import matplotlib.pyplot as plt\n",
    "%matplotlib inline\n",
    "from sklearn.model_selection import cross_val_score\n",
    "from sklearn.model_selection import train_test_split # to split the data into two parts\n",
    "from sklearn.model_selection import GridSearchCV #for tuning parameter\n",
    "from sklearn.ensemble import RandomForestClassifier\n",
    "from sklearn.neighbors import KNeighborsClassifier\n",
    "from sklearn.tree import DecisionTreeClassifier\n",
    "from sklearn import metrics # for the check the error and accuracy of the model"
   ]
  },
  {
   "cell_type": "code",
   "execution_count": 2,
   "metadata": {},
   "outputs": [
    {
     "data": {
      "text/html": [
       "<div>\n",
       "<style scoped>\n",
       "    .dataframe tbody tr th:only-of-type {\n",
       "        vertical-align: middle;\n",
       "    }\n",
       "\n",
       "    .dataframe tbody tr th {\n",
       "        vertical-align: top;\n",
       "    }\n",
       "\n",
       "    .dataframe thead th {\n",
       "        text-align: right;\n",
       "    }\n",
       "</style>\n",
       "<table border=\"1\" class=\"dataframe\">\n",
       "  <thead>\n",
       "    <tr style=\"text-align: right;\">\n",
       "      <th></th>\n",
       "      <th>1. Title: Wisconsin Diagnostic Breast Cancer (WDBC)</th>\n",
       "    </tr>\n",
       "  </thead>\n",
       "  <tbody>\n",
       "    <tr>\n",
       "      <th>0</th>\n",
       "      <td>2. Source Information</td>\n",
       "    </tr>\n",
       "    <tr>\n",
       "      <th>1</th>\n",
       "      <td>a) Creators:</td>\n",
       "    </tr>\n",
       "    <tr>\n",
       "      <th>2</th>\n",
       "      <td>Dr. William H. Wolberg, General Surgery Dept.,...</td>\n",
       "    </tr>\n",
       "    <tr>\n",
       "      <th>3</th>\n",
       "      <td>Wisconsin,  Clinical Sciences Center, Madison,...</td>\n",
       "    </tr>\n",
       "    <tr>\n",
       "      <th>4</th>\n",
       "      <td>wolberg@eagle.surgery.wisc.edu</td>\n",
       "    </tr>\n",
       "    <tr>\n",
       "      <th>...</th>\n",
       "      <td>...</td>\n",
       "    </tr>\n",
       "    <tr>\n",
       "      <th>96</th>\n",
       "      <td>resulting in 30 features.  For instance, field...</td>\n",
       "    </tr>\n",
       "    <tr>\n",
       "      <th>97</th>\n",
       "      <td>13 is Radius SE, field 23 is Worst Radius.</td>\n",
       "    </tr>\n",
       "    <tr>\n",
       "      <th>98</th>\n",
       "      <td>All feature values are recoded with four signi...</td>\n",
       "    </tr>\n",
       "    <tr>\n",
       "      <th>99</th>\n",
       "      <td>8. Missing attribute values: none</td>\n",
       "    </tr>\n",
       "    <tr>\n",
       "      <th>100</th>\n",
       "      <td>9. Class distribution: 357 benign, 212 malignant</td>\n",
       "    </tr>\n",
       "  </tbody>\n",
       "</table>\n",
       "<p>101 rows × 1 columns</p>\n",
       "</div>"
      ],
      "text/plain": [
       "    1. Title: Wisconsin Diagnostic Breast Cancer (WDBC)\n",
       "0                                2. Source Information \n",
       "1                                         a) Creators: \n",
       "2    Dr. William H. Wolberg, General Surgery Dept.,... \n",
       "3    Wisconsin,  Clinical Sciences Center, Madison,... \n",
       "4                       wolberg@eagle.surgery.wisc.edu \n",
       "..                                                 ... \n",
       "96   resulting in 30 features.  For instance, field... \n",
       "97          13 is Radius SE, field 23 is Worst Radius. \n",
       "98   All feature values are recoded with four signi... \n",
       "99                   8. Missing attribute values: none \n",
       "100   9. Class distribution: 357 benign, 212 malignant \n",
       "\n",
       "[101 rows x 1 columns]"
      ]
     },
     "execution_count": 2,
     "metadata": {},
     "output_type": "execute_result"
    }
   ],
   "source": [
    "#reading column names\n",
    "names = pd.read_fwf('../data/wdbc.names')\n",
    "names"
   ]
  },
  {
   "cell_type": "markdown",
   "metadata": {},
   "source": [
    "As we can see that the column names are missing above so we'll insert it manually"
   ]
  },
  {
   "cell_type": "code",
   "execution_count": 3,
   "metadata": {},
   "outputs": [],
   "source": [
    "cols = \"\"\"id,\n",
    "diagnosis,\n",
    "radius_mean,\n",
    "texture_mean,\n",
    "perimeter_mean,\n",
    "area_mean,\n",
    "smoothness_mean,\n",
    "compactness_mean,\n",
    "concavity_mean,\n",
    "concave_points_mean,\n",
    "symmetry_mean,\n",
    "fractal_dimension_mean,\n",
    "radius_se,\n",
    "texture_se,\n",
    "perimeter_se,\n",
    "area_se,\n",
    "smoothness_se,\n",
    "compactness_se,\n",
    "concavity_se,\n",
    "concave_points_se,\n",
    "symmetry_se,\n",
    "fractal_dimension_se,\n",
    "radius_worst,\n",
    "texture_worst,\n",
    "perimeter_worst,\n",
    "area_worst,\n",
    "smoothness_worst,\n",
    "compactness_worst,\n",
    "concavity_worst,\n",
    "concave_points_worst,\n",
    "symmetry_worst,\n",
    "fractal_dimension_worst\"\"\"\n",
    "\n",
    "columns=[]\n",
    "for c in cols.split(','):\n",
    "    if(c.strip()):\n",
    "       columns.append(c.strip())"
   ]
  },
  {
   "cell_type": "code",
   "execution_count": 4,
   "metadata": {},
   "outputs": [
    {
     "data": {
      "text/plain": [
       "['id',\n",
       " 'diagnosis',\n",
       " 'radius_mean',\n",
       " 'texture_mean',\n",
       " 'perimeter_mean',\n",
       " 'area_mean',\n",
       " 'smoothness_mean',\n",
       " 'compactness_mean',\n",
       " 'concavity_mean',\n",
       " 'concave_points_mean',\n",
       " 'symmetry_mean',\n",
       " 'fractal_dimension_mean',\n",
       " 'radius_se',\n",
       " 'texture_se',\n",
       " 'perimeter_se',\n",
       " 'area_se',\n",
       " 'smoothness_se',\n",
       " 'compactness_se',\n",
       " 'concavity_se',\n",
       " 'concave_points_se',\n",
       " 'symmetry_se',\n",
       " 'fractal_dimension_se',\n",
       " 'radius_worst',\n",
       " 'texture_worst',\n",
       " 'perimeter_worst',\n",
       " 'area_worst',\n",
       " 'smoothness_worst',\n",
       " 'compactness_worst',\n",
       " 'concavity_worst',\n",
       " 'concave_points_worst',\n",
       " 'symmetry_worst',\n",
       " 'fractal_dimension_worst']"
      ]
     },
     "execution_count": 4,
     "metadata": {},
     "output_type": "execute_result"
    }
   ],
   "source": [
    "columns"
   ]
  },
  {
   "cell_type": "code",
   "execution_count": 5,
   "metadata": {},
   "outputs": [],
   "source": [
    "#reading data\n",
    "path = '../data/wdbc.data'\n",
    "df = pd.read_csv(path, names=columns)"
   ]
  },
  {
   "cell_type": "code",
   "execution_count": 6,
   "metadata": {},
   "outputs": [
    {
     "data": {
      "text/html": [
       "<div>\n",
       "<style scoped>\n",
       "    .dataframe tbody tr th:only-of-type {\n",
       "        vertical-align: middle;\n",
       "    }\n",
       "\n",
       "    .dataframe tbody tr th {\n",
       "        vertical-align: top;\n",
       "    }\n",
       "\n",
       "    .dataframe thead th {\n",
       "        text-align: right;\n",
       "    }\n",
       "</style>\n",
       "<table border=\"1\" class=\"dataframe\">\n",
       "  <thead>\n",
       "    <tr style=\"text-align: right;\">\n",
       "      <th></th>\n",
       "      <th>id</th>\n",
       "      <th>diagnosis</th>\n",
       "      <th>radius_mean</th>\n",
       "      <th>texture_mean</th>\n",
       "      <th>perimeter_mean</th>\n",
       "      <th>area_mean</th>\n",
       "      <th>smoothness_mean</th>\n",
       "      <th>compactness_mean</th>\n",
       "      <th>concavity_mean</th>\n",
       "      <th>concave_points_mean</th>\n",
       "      <th>...</th>\n",
       "      <th>radius_worst</th>\n",
       "      <th>texture_worst</th>\n",
       "      <th>perimeter_worst</th>\n",
       "      <th>area_worst</th>\n",
       "      <th>smoothness_worst</th>\n",
       "      <th>compactness_worst</th>\n",
       "      <th>concavity_worst</th>\n",
       "      <th>concave_points_worst</th>\n",
       "      <th>symmetry_worst</th>\n",
       "      <th>fractal_dimension_worst</th>\n",
       "    </tr>\n",
       "  </thead>\n",
       "  <tbody>\n",
       "    <tr>\n",
       "      <th>0</th>\n",
       "      <td>842302</td>\n",
       "      <td>M</td>\n",
       "      <td>17.99</td>\n",
       "      <td>10.38</td>\n",
       "      <td>122.80</td>\n",
       "      <td>1001.0</td>\n",
       "      <td>0.11840</td>\n",
       "      <td>0.27760</td>\n",
       "      <td>0.3001</td>\n",
       "      <td>0.14710</td>\n",
       "      <td>...</td>\n",
       "      <td>25.38</td>\n",
       "      <td>17.33</td>\n",
       "      <td>184.60</td>\n",
       "      <td>2019.0</td>\n",
       "      <td>0.1622</td>\n",
       "      <td>0.6656</td>\n",
       "      <td>0.7119</td>\n",
       "      <td>0.2654</td>\n",
       "      <td>0.4601</td>\n",
       "      <td>0.11890</td>\n",
       "    </tr>\n",
       "    <tr>\n",
       "      <th>1</th>\n",
       "      <td>842517</td>\n",
       "      <td>M</td>\n",
       "      <td>20.57</td>\n",
       "      <td>17.77</td>\n",
       "      <td>132.90</td>\n",
       "      <td>1326.0</td>\n",
       "      <td>0.08474</td>\n",
       "      <td>0.07864</td>\n",
       "      <td>0.0869</td>\n",
       "      <td>0.07017</td>\n",
       "      <td>...</td>\n",
       "      <td>24.99</td>\n",
       "      <td>23.41</td>\n",
       "      <td>158.80</td>\n",
       "      <td>1956.0</td>\n",
       "      <td>0.1238</td>\n",
       "      <td>0.1866</td>\n",
       "      <td>0.2416</td>\n",
       "      <td>0.1860</td>\n",
       "      <td>0.2750</td>\n",
       "      <td>0.08902</td>\n",
       "    </tr>\n",
       "    <tr>\n",
       "      <th>2</th>\n",
       "      <td>84300903</td>\n",
       "      <td>M</td>\n",
       "      <td>19.69</td>\n",
       "      <td>21.25</td>\n",
       "      <td>130.00</td>\n",
       "      <td>1203.0</td>\n",
       "      <td>0.10960</td>\n",
       "      <td>0.15990</td>\n",
       "      <td>0.1974</td>\n",
       "      <td>0.12790</td>\n",
       "      <td>...</td>\n",
       "      <td>23.57</td>\n",
       "      <td>25.53</td>\n",
       "      <td>152.50</td>\n",
       "      <td>1709.0</td>\n",
       "      <td>0.1444</td>\n",
       "      <td>0.4245</td>\n",
       "      <td>0.4504</td>\n",
       "      <td>0.2430</td>\n",
       "      <td>0.3613</td>\n",
       "      <td>0.08758</td>\n",
       "    </tr>\n",
       "    <tr>\n",
       "      <th>3</th>\n",
       "      <td>84348301</td>\n",
       "      <td>M</td>\n",
       "      <td>11.42</td>\n",
       "      <td>20.38</td>\n",
       "      <td>77.58</td>\n",
       "      <td>386.1</td>\n",
       "      <td>0.14250</td>\n",
       "      <td>0.28390</td>\n",
       "      <td>0.2414</td>\n",
       "      <td>0.10520</td>\n",
       "      <td>...</td>\n",
       "      <td>14.91</td>\n",
       "      <td>26.50</td>\n",
       "      <td>98.87</td>\n",
       "      <td>567.7</td>\n",
       "      <td>0.2098</td>\n",
       "      <td>0.8663</td>\n",
       "      <td>0.6869</td>\n",
       "      <td>0.2575</td>\n",
       "      <td>0.6638</td>\n",
       "      <td>0.17300</td>\n",
       "    </tr>\n",
       "    <tr>\n",
       "      <th>4</th>\n",
       "      <td>84358402</td>\n",
       "      <td>M</td>\n",
       "      <td>20.29</td>\n",
       "      <td>14.34</td>\n",
       "      <td>135.10</td>\n",
       "      <td>1297.0</td>\n",
       "      <td>0.10030</td>\n",
       "      <td>0.13280</td>\n",
       "      <td>0.1980</td>\n",
       "      <td>0.10430</td>\n",
       "      <td>...</td>\n",
       "      <td>22.54</td>\n",
       "      <td>16.67</td>\n",
       "      <td>152.20</td>\n",
       "      <td>1575.0</td>\n",
       "      <td>0.1374</td>\n",
       "      <td>0.2050</td>\n",
       "      <td>0.4000</td>\n",
       "      <td>0.1625</td>\n",
       "      <td>0.2364</td>\n",
       "      <td>0.07678</td>\n",
       "    </tr>\n",
       "  </tbody>\n",
       "</table>\n",
       "<p>5 rows × 32 columns</p>\n",
       "</div>"
      ],
      "text/plain": [
       "         id diagnosis  radius_mean  texture_mean  perimeter_mean  area_mean  \\\n",
       "0    842302         M        17.99         10.38          122.80     1001.0   \n",
       "1    842517         M        20.57         17.77          132.90     1326.0   \n",
       "2  84300903         M        19.69         21.25          130.00     1203.0   \n",
       "3  84348301         M        11.42         20.38           77.58      386.1   \n",
       "4  84358402         M        20.29         14.34          135.10     1297.0   \n",
       "\n",
       "   smoothness_mean  compactness_mean  concavity_mean  concave_points_mean  \\\n",
       "0          0.11840           0.27760          0.3001              0.14710   \n",
       "1          0.08474           0.07864          0.0869              0.07017   \n",
       "2          0.10960           0.15990          0.1974              0.12790   \n",
       "3          0.14250           0.28390          0.2414              0.10520   \n",
       "4          0.10030           0.13280          0.1980              0.10430   \n",
       "\n",
       "   ...  radius_worst  texture_worst  perimeter_worst  area_worst  \\\n",
       "0  ...         25.38          17.33           184.60      2019.0   \n",
       "1  ...         24.99          23.41           158.80      1956.0   \n",
       "2  ...         23.57          25.53           152.50      1709.0   \n",
       "3  ...         14.91          26.50            98.87       567.7   \n",
       "4  ...         22.54          16.67           152.20      1575.0   \n",
       "\n",
       "   smoothness_worst  compactness_worst  concavity_worst  concave_points_worst  \\\n",
       "0            0.1622             0.6656           0.7119                0.2654   \n",
       "1            0.1238             0.1866           0.2416                0.1860   \n",
       "2            0.1444             0.4245           0.4504                0.2430   \n",
       "3            0.2098             0.8663           0.6869                0.2575   \n",
       "4            0.1374             0.2050           0.4000                0.1625   \n",
       "\n",
       "   symmetry_worst  fractal_dimension_worst  \n",
       "0          0.4601                  0.11890  \n",
       "1          0.2750                  0.08902  \n",
       "2          0.3613                  0.08758  \n",
       "3          0.6638                  0.17300  \n",
       "4          0.2364                  0.07678  \n",
       "\n",
       "[5 rows x 32 columns]"
      ]
     },
     "execution_count": 6,
     "metadata": {},
     "output_type": "execute_result"
    }
   ],
   "source": [
    "df.head()"
   ]
  },
  {
   "cell_type": "code",
   "execution_count": 7,
   "metadata": {},
   "outputs": [
    {
     "name": "stdout",
     "output_type": "stream",
     "text": [
      "<class 'pandas.core.frame.DataFrame'>\n",
      "RangeIndex: 569 entries, 0 to 568\n",
      "Data columns (total 32 columns):\n",
      "id                         569 non-null int64\n",
      "diagnosis                  569 non-null object\n",
      "radius_mean                569 non-null float64\n",
      "texture_mean               569 non-null float64\n",
      "perimeter_mean             569 non-null float64\n",
      "area_mean                  569 non-null float64\n",
      "smoothness_mean            569 non-null float64\n",
      "compactness_mean           569 non-null float64\n",
      "concavity_mean             569 non-null float64\n",
      "concave_points_mean        569 non-null float64\n",
      "symmetry_mean              569 non-null float64\n",
      "fractal_dimension_mean     569 non-null float64\n",
      "radius_se                  569 non-null float64\n",
      "texture_se                 569 non-null float64\n",
      "perimeter_se               569 non-null float64\n",
      "area_se                    569 non-null float64\n",
      "smoothness_se              569 non-null float64\n",
      "compactness_se             569 non-null float64\n",
      "concavity_se               569 non-null float64\n",
      "concave_points_se          569 non-null float64\n",
      "symmetry_se                569 non-null float64\n",
      "fractal_dimension_se       569 non-null float64\n",
      "radius_worst               569 non-null float64\n",
      "texture_worst              569 non-null float64\n",
      "perimeter_worst            569 non-null float64\n",
      "area_worst                 569 non-null float64\n",
      "smoothness_worst           569 non-null float64\n",
      "compactness_worst          569 non-null float64\n",
      "concavity_worst            569 non-null float64\n",
      "concave_points_worst       569 non-null float64\n",
      "symmetry_worst             569 non-null float64\n",
      "fractal_dimension_worst    569 non-null float64\n",
      "dtypes: float64(30), int64(1), object(1)\n",
      "memory usage: 142.4+ KB\n"
     ]
    }
   ],
   "source": [
    "df.info()"
   ]
  },
  {
   "cell_type": "code",
   "execution_count": 8,
   "metadata": {},
   "outputs": [],
   "source": [
    "#As we do not need the id coloumn for our analysis\n",
    "df.drop(\"id\",axis=1,inplace=True)\n",
    "#Converting diagnosis into numeric\n",
    "df['diagnosis'] = df['diagnosis'].map({'M':1,'B':0})"
   ]
  },
  {
   "cell_type": "code",
   "execution_count": 9,
   "metadata": {},
   "outputs": [],
   "source": [
    "#Calculating features\n",
    "features = df.drop('diagnosis', axis=1)"
   ]
  },
  {
   "cell_type": "code",
   "execution_count": 10,
   "metadata": {},
   "outputs": [],
   "source": [
    "#Calculating target\n",
    "target = df['diagnosis']"
   ]
  },
  {
   "cell_type": "markdown",
   "metadata": {},
   "source": [
    "# Forward Stepwise feauture selection"
   ]
  },
  {
   "cell_type": "markdown",
   "metadata": {},
   "source": [
    "Let's find the best 10 features and perform classification based on that. "
   ]
  },
  {
   "cell_type": "code",
   "execution_count": 11,
   "metadata": {},
   "outputs": [
    {
     "name": "stdout",
     "output_type": "stream",
     "text": [
      "perimeter_worst: [0.86842105 0.83333333 0.92105263 0.92105263 0.89380531] (0.887532991771464)\n",
      "fractal_dimension_worst: [0.93859649 0.87719298 0.97368421 0.93859649 0.90265487] (0.9261450085390468)\n",
      "symmetry_worst: [0.92982456 0.92105263 0.94736842 0.93859649 0.9380531 ] (0.934979040521658)\n",
      "radius_mean: [0.92982456 0.92105263 0.95614035 0.95614035 0.94690265] (0.9420121099208197)\n",
      "fractal_dimension_se: [0.94736842 0.9122807  0.94736842 0.94736842 0.94690265] (0.9402577239559073)\n",
      "concavity_se: [0.90350877 0.92982456 0.94736842 0.96491228 0.94690265] (0.9385033379909953)\n",
      "area_worst: [0.95614035 0.92105263 0.95614035 0.94736842 0.95575221] (0.947290793355069)\n",
      "compactness_mean: [0.92982456 0.92105263 0.98245614 0.94736842 0.92920354] (0.9419810588417947)\n",
      "texture_worst: [0.92982456 0.9122807  0.98245614 0.96491228 0.92035398] (0.9419655333022823)\n",
      "concave_points_mean: [0.94736842 0.9122807  0.97368421 0.95614035 0.94690265] (0.9472752678155567)\n"
     ]
    }
   ],
   "source": [
    "columns = list(features.columns)\n",
    "selected_features = []\n",
    "scores = []\n",
    "N = 10\n",
    "while len(selected_features) < N:\n",
    "    best_score = pd.Series([0])\n",
    "    best_feature = None\n",
    "    for feature in columns:\n",
    "        score = cross_val_score(DecisionTreeClassifier(max_depth=10),\n",
    "                               pd.get_dummies(features[selected_features + [feature]]), target)\n",
    "        if score.mean() > best_score.mean():\n",
    "            best_feature = feature\n",
    "            best_score = score\n",
    "    print(f\"{best_feature}: {best_score} ({best_score.mean()})\")\n",
    "    columns.remove(best_feature)\n",
    "    selected_features.append(best_feature)\n",
    "    scores.append(score)"
   ]
  },
  {
   "cell_type": "markdown",
   "metadata": {},
   "source": [
    "# Random Forest"
   ]
  },
  {
   "cell_type": "code",
   "execution_count": 12,
   "metadata": {},
   "outputs": [],
   "source": [
    "#Splitting data into training and test\n",
    "train, test = train_test_split(df, test_size= 0.3)"
   ]
  },
  {
   "cell_type": "code",
   "execution_count": 13,
   "metadata": {},
   "outputs": [],
   "source": [
    "train_X = train[selected_features]\n",
    "train_Y = train.diagnosis"
   ]
  },
  {
   "cell_type": "code",
   "execution_count": 14,
   "metadata": {},
   "outputs": [
    {
     "data": {
      "text/plain": [
       "RandomForestClassifier(bootstrap=True, ccp_alpha=0.0, class_weight=None,\n",
       "                       criterion='gini', max_depth=None, max_features='auto',\n",
       "                       max_leaf_nodes=None, max_samples=None,\n",
       "                       min_impurity_decrease=0.0, min_impurity_split=None,\n",
       "                       min_samples_leaf=1, min_samples_split=2,\n",
       "                       min_weight_fraction_leaf=0.0, n_estimators=100,\n",
       "                       n_jobs=None, oob_score=False, random_state=None,\n",
       "                       verbose=0, warm_start=False)"
      ]
     },
     "execution_count": 14,
     "metadata": {},
     "output_type": "execute_result"
    }
   ],
   "source": [
    "#training model\n",
    "model = RandomForestClassifier(n_estimators=100)\n",
    "model.fit(train_X, train_Y)"
   ]
  },
  {
   "cell_type": "code",
   "execution_count": 15,
   "metadata": {},
   "outputs": [],
   "source": [
    "test_X = test[selected_features]\n",
    "test_Y = test.diagnosis"
   ]
  },
  {
   "cell_type": "code",
   "execution_count": 16,
   "metadata": {},
   "outputs": [],
   "source": [
    "#prediction\n",
    "prediction = model.predict(test_X)"
   ]
  },
  {
   "cell_type": "code",
   "execution_count": 17,
   "metadata": {},
   "outputs": [
    {
     "data": {
      "text/plain": [
       "0.9649122807017544"
      ]
     },
     "execution_count": 17,
     "metadata": {},
     "output_type": "execute_result"
    }
   ],
   "source": [
    "metrics.accuracy_score(prediction, test_Y)"
   ]
  },
  {
   "cell_type": "markdown",
   "metadata": {},
   "source": [
    "# Cross Validation"
   ]
  },
  {
   "cell_type": "markdown",
   "metadata": {},
   "source": [
    "We are going to cross validate using Decision Tree classifier and KNN neighbours. "
   ]
  },
  {
   "cell_type": "code",
   "execution_count": 18,
   "metadata": {},
   "outputs": [],
   "source": [
    "depth = list(range(10,50,5))"
   ]
  },
  {
   "cell_type": "code",
   "execution_count": 19,
   "metadata": {},
   "outputs": [],
   "source": [
    "cv_scores_DT = [cross_val_score(DecisionTreeClassifier(max_depth=d), features[selected_features], target, cv=20)\n",
    "               for d in depth]"
   ]
  },
  {
   "cell_type": "code",
   "execution_count": 20,
   "metadata": {},
   "outputs": [
    {
     "data": {
      "text/plain": [
       "[array([1.        , 0.96551724, 0.96551724, 0.75862069, 0.93103448,\n",
       "        0.89655172, 0.89655172, 0.96551724, 0.96551724, 0.96428571,\n",
       "        1.        , 0.89285714, 0.92857143, 0.92857143, 1.        ,\n",
       "        1.        , 0.92857143, 0.96428571, 0.85714286, 1.        ]),\n",
       " array([1.        , 0.96551724, 0.96551724, 0.75862069, 0.93103448,\n",
       "        0.89655172, 0.86206897, 0.96551724, 0.96551724, 0.96428571,\n",
       "        1.        , 0.92857143, 0.96428571, 0.92857143, 1.        ,\n",
       "        1.        , 0.96428571, 0.96428571, 0.82142857, 1.        ]),\n",
       " array([1.        , 0.96551724, 0.96551724, 0.79310345, 0.93103448,\n",
       "        0.89655172, 0.86206897, 0.96551724, 0.93103448, 0.96428571,\n",
       "        1.        , 0.89285714, 0.96428571, 0.96428571, 1.        ,\n",
       "        1.        , 0.96428571, 0.89285714, 0.85714286, 1.        ]),\n",
       " array([1.        , 0.96551724, 0.96551724, 0.79310345, 0.93103448,\n",
       "        0.89655172, 0.86206897, 0.96551724, 0.96551724, 0.96428571,\n",
       "        1.        , 0.92857143, 0.89285714, 0.96428571, 1.        ,\n",
       "        1.        , 0.96428571, 0.89285714, 0.85714286, 1.        ]),\n",
       " array([1.        , 0.96551724, 0.96551724, 0.79310345, 0.93103448,\n",
       "        0.93103448, 0.89655172, 0.96551724, 0.93103448, 0.96428571,\n",
       "        1.        , 0.89285714, 0.92857143, 0.92857143, 1.        ,\n",
       "        1.        , 0.96428571, 0.96428571, 0.85714286, 1.        ]),\n",
       " array([1.        , 0.96551724, 0.96551724, 0.79310345, 0.93103448,\n",
       "        0.93103448, 0.86206897, 0.96551724, 0.96551724, 0.96428571,\n",
       "        1.        , 0.89285714, 0.92857143, 0.92857143, 1.        ,\n",
       "        1.        , 0.96428571, 0.89285714, 0.82142857, 1.        ]),\n",
       " array([1.        , 0.96551724, 0.96551724, 0.79310345, 0.93103448,\n",
       "        0.93103448, 0.89655172, 0.96551724, 0.93103448, 0.96428571,\n",
       "        1.        , 0.89285714, 0.92857143, 0.92857143, 1.        ,\n",
       "        1.        , 0.92857143, 0.96428571, 0.85714286, 1.        ]),\n",
       " array([0.93103448, 0.96551724, 0.96551724, 0.79310345, 0.93103448,\n",
       "        0.89655172, 0.89655172, 0.93103448, 0.96551724, 0.96428571,\n",
       "        1.        , 0.89285714, 0.89285714, 0.96428571, 1.        ,\n",
       "        1.        , 0.92857143, 0.89285714, 0.82142857, 0.96428571])]"
      ]
     },
     "execution_count": 20,
     "metadata": {},
     "output_type": "execute_result"
    }
   ],
   "source": [
    "cv_scores_DT"
   ]
  },
  {
   "cell_type": "code",
   "execution_count": 21,
   "metadata": {},
   "outputs": [
    {
     "data": {
      "text/plain": [
       "[<matplotlib.lines.Line2D at 0x7f8c0a000d90>]"
      ]
     },
     "execution_count": 21,
     "metadata": {},
     "output_type": "execute_result"
    },
    {
     "data": {
      "image/png": "[encoded data removed]",
      "text/plain": [
       "<Figure size 432x288 with 1 Axes>"
      ]
     },
     "metadata": {
      "needs_background": "light"
     },
     "output_type": "display_data"
    }
   ],
   "source": [
    "plt.plot(depth, [s.mean() for s in cv_scores_DT])"
   ]
  },
  {
   "cell_type": "code",
   "execution_count": 22,
   "metadata": {},
   "outputs": [],
   "source": [
    "ks = list(range(10,100,10))"
   ]
  },
  {
   "cell_type": "code",
   "execution_count": 23,
   "metadata": {},
   "outputs": [],
   "source": [
    "cv_scores_KNN = [cross_val_score(KNeighborsClassifier(n_neighbors=k), features[selected_features], target, cv=20)\n",
    "                for k in ks]"
   ]
  },
  {
   "cell_type": "code",
   "execution_count": 24,
   "metadata": {},
   "outputs": [
    {
     "data": {
      "text/plain": [
       "[array([0.86206897, 0.93103448, 1.        , 0.72413793, 0.93103448,\n",
       "        0.86206897, 0.93103448, 0.93103448, 0.93103448, 0.92857143,\n",
       "        0.85714286, 0.92857143, 1.        , 0.92857143, 0.96428571,\n",
       "        0.89285714, 0.92857143, 0.96428571, 0.92857143, 0.96428571]),\n",
       " array([0.86206897, 0.93103448, 0.96551724, 0.72413793, 0.89655172,\n",
       "        0.86206897, 0.93103448, 0.93103448, 0.93103448, 0.92857143,\n",
       "        0.85714286, 0.92857143, 1.        , 0.92857143, 1.        ,\n",
       "        0.89285714, 0.89285714, 0.96428571, 0.92857143, 0.96428571]),\n",
       " array([0.86206897, 0.93103448, 1.        , 0.72413793, 0.93103448,\n",
       "        0.86206897, 0.93103448, 0.93103448, 0.93103448, 0.92857143,\n",
       "        0.85714286, 0.92857143, 1.        , 0.92857143, 1.        ,\n",
       "        0.89285714, 0.92857143, 0.96428571, 0.92857143, 0.96428571]),\n",
       " array([0.82758621, 0.93103448, 0.93103448, 0.72413793, 0.89655172,\n",
       "        0.86206897, 0.93103448, 0.93103448, 0.93103448, 0.92857143,\n",
       "        0.85714286, 0.92857143, 1.        , 0.92857143, 1.        ,\n",
       "        0.89285714, 0.89285714, 0.96428571, 0.92857143, 0.96428571]),\n",
       " array([0.86206897, 0.93103448, 0.96551724, 0.72413793, 0.89655172,\n",
       "        0.86206897, 0.93103448, 0.93103448, 0.93103448, 0.92857143,\n",
       "        0.89285714, 0.92857143, 1.        , 0.92857143, 1.        ,\n",
       "        0.89285714, 0.89285714, 0.96428571, 0.92857143, 0.96428571]),\n",
       " array([0.86206897, 0.96551724, 0.96551724, 0.72413793, 0.89655172,\n",
       "        0.86206897, 0.93103448, 0.93103448, 0.93103448, 0.92857143,\n",
       "        0.85714286, 0.92857143, 1.        , 0.89285714, 1.        ,\n",
       "        0.89285714, 0.89285714, 0.96428571, 0.92857143, 0.96428571]),\n",
       " array([0.86206897, 0.96551724, 1.        , 0.72413793, 0.93103448,\n",
       "        0.86206897, 0.93103448, 0.93103448, 0.93103448, 0.92857143,\n",
       "        0.85714286, 0.92857143, 1.        , 0.92857143, 1.        ,\n",
       "        0.89285714, 0.92857143, 0.96428571, 0.92857143, 0.96428571]),\n",
       " array([0.86206897, 0.96551724, 1.        , 0.72413793, 0.93103448,\n",
       "        0.86206897, 0.89655172, 0.93103448, 0.93103448, 0.92857143,\n",
       "        0.85714286, 0.92857143, 1.        , 0.89285714, 1.        ,\n",
       "        0.89285714, 0.92857143, 0.96428571, 0.92857143, 0.96428571]),\n",
       " array([0.86206897, 0.96551724, 1.        , 0.72413793, 0.89655172,\n",
       "        0.86206897, 0.89655172, 0.93103448, 0.93103448, 0.92857143,\n",
       "        0.89285714, 0.92857143, 1.        , 0.89285714, 1.        ,\n",
       "        0.89285714, 0.92857143, 0.92857143, 0.92857143, 0.96428571])]"
      ]
     },
     "execution_count": 24,
     "metadata": {},
     "output_type": "execute_result"
    }
   ],
   "source": [
    "cv_scores_KNN"
   ]
  },
  {
   "cell_type": "code",
   "execution_count": 25,
   "metadata": {},
   "outputs": [
    {
     "data": {
      "text/plain": [
       "[<matplotlib.lines.Line2D at 0x7f8c0a0b7d90>]"
      ]
     },
     "execution_count": 25,
     "metadata": {},
     "output_type": "execute_result"
    },
    {
     "data": {
      "image/png": "[encoded data removed]",
      "text/plain": [
       "<Figure size 432x288 with 1 Axes>"
      ]
     },
     "metadata": {
      "needs_background": "light"
     },
     "output_type": "display_data"
    }
   ],
   "source": [
    "plt.plot(ks, [s.mean() for s in cv_scores_KNN])"
   ]
  },
  {
   "cell_type": "code",
   "execution_count": null,
   "metadata": {},
   "outputs": [],
   "source": []
  }
 ],
 "metadata": {
  "kernelspec": {
   "display_name": "Python 3",
   "language": "python",
   "name": "python3"
  },
  "language_info": {
   "codemirror_mode": {
    "name": "ipython",
    "version": 3
   },
   "file_extension": ".py",
   "mimetype": "text/x-python",
   "name": "python",
   "nbconvert_exporter": "python",
   "pygments_lexer": "ipython3",
   "version": "3.7.4"
  }
 },
 "nbformat": 4,
 "nbformat_minor": 2
}
